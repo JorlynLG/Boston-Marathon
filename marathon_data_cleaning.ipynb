{
 "cells": [
  {
   "cell_type": "markdown",
   "id": "de2fb8c2-1b51-4418-8258-961ad2a4f58d",
   "metadata": {},
   "source": [
    "# Marathon Data Cleaning"
   ]
  },
  {
   "cell_type": "code",
   "execution_count": 28,
   "id": "cb3cdd57-ff60-4614-b4a9-d0c111409f2d",
   "metadata": {},
   "outputs": [],
   "source": [
    "import pandas as pd\n",
    "import numpy as np\n",
    "import pickle\n",
    "\n",
    "from matplotlib import pyplot as plt\n",
    "import seaborn as sns"
   ]
  },
  {
   "cell_type": "code",
   "execution_count": 348,
   "id": "4a7e3d75-7375-494c-8e69-5c76174589b1",
   "metadata": {},
   "outputs": [],
   "source": [
    "with open('marathon_data.pkl', 'rb') as file:\n",
    "    df = pickle.load(file)"
   ]
  },
  {
   "cell_type": "code",
   "execution_count": null,
   "id": "6f2810ff-74a9-4247-b061-37a6e38229d3",
   "metadata": {},
   "outputs": [],
   "source": [
    "###Data Cleaning CHECK####\n",
    "#Missing values\n",
    "#All values in the right format\n",
    "#Any repeats"
   ]
  },
  {
   "cell_type": "code",
   "execution_count": 199,
   "id": "3759891b-83a1-40bb-aa9d-0ce031ec5f62",
   "metadata": {},
   "outputs": [
    {
     "data": {
      "text/html": [
       "<div>\n",
       "<style scoped>\n",
       "    .dataframe tbody tr th:only-of-type {\n",
       "        vertical-align: middle;\n",
       "    }\n",
       "\n",
       "    .dataframe tbody tr th {\n",
       "        vertical-align: top;\n",
       "    }\n",
       "\n",
       "    .dataframe thead th {\n",
       "        text-align: right;\n",
       "    }\n",
       "</style>\n",
       "<table border=\"1\" class=\"dataframe\">\n",
       "  <thead>\n",
       "    <tr style=\"text-align: right;\">\n",
       "      <th></th>\n",
       "      <th>name</th>\n",
       "      <th>team</th>\n",
       "      <th>age_group</th>\n",
       "      <th>bib_num</th>\n",
       "      <th>state</th>\n",
       "      <th>place_mw</th>\n",
       "      <th>place_ac</th>\n",
       "      <th>place_total</th>\n",
       "      <th>time_net</th>\n",
       "      <th>time_gun</th>\n",
       "      <th>...</th>\n",
       "      <th>40K_min_per_mile</th>\n",
       "      <th>25_2_miles_time_of_day</th>\n",
       "      <th>25_2_miles_time</th>\n",
       "      <th>25_2_miles_time_diff</th>\n",
       "      <th>25_2_miles_min_per_mile</th>\n",
       "      <th>26_2_miles_time_of_day</th>\n",
       "      <th>26_2_miles_time</th>\n",
       "      <th>26_2_miles_time_diff</th>\n",
       "      <th>26_2_miles_min_per_mile</th>\n",
       "      <th>sex</th>\n",
       "    </tr>\n",
       "  </thead>\n",
       "  <tbody>\n",
       "    <tr>\n",
       "      <th>0</th>\n",
       "      <td>A Desouza, Renato</td>\n",
       "      <td>–</td>\n",
       "      <td>50-54</td>\n",
       "      <td>9508</td>\n",
       "      <td>HI</td>\n",
       "      <td>9102</td>\n",
       "      <td>1196</td>\n",
       "      <td>13896</td>\n",
       "      <td>03:48:15</td>\n",
       "      <td>03:49:00</td>\n",
       "      <td>...</td>\n",
       "      <td>10:05</td>\n",
       "      <td>01:55:28PM</td>\n",
       "      <td>03:29:43</td>\n",
       "      <td>04:44</td>\n",
       "      <td>13:44</td>\n",
       "      <td>02:14:01PM</td>\n",
       "      <td>03:48:15</td>\n",
       "      <td>18:32</td>\n",
       "      <td>18:11</td>\n",
       "      <td>M</td>\n",
       "    </tr>\n",
       "    <tr>\n",
       "      <th>1</th>\n",
       "      <td>A Hayes, Kimberly</td>\n",
       "      <td>–</td>\n",
       "      <td>50-54</td>\n",
       "      <td>28861</td>\n",
       "      <td>MA</td>\n",
       "      <td>10172</td>\n",
       "      <td>1093</td>\n",
       "      <td>24147</td>\n",
       "      <td>05:26:24</td>\n",
       "      <td>05:31:26</td>\n",
       "      <td>...</td>\n",
       "      <td>14:27</td>\n",
       "      <td>04:33:09PM</td>\n",
       "      <td>05:13:05</td>\n",
       "      <td>05:00</td>\n",
       "      <td>14:30</td>\n",
       "      <td>04:46:28PM</td>\n",
       "      <td>05:26:24</td>\n",
       "      <td>13:19</td>\n",
       "      <td>13:04</td>\n",
       "      <td>W</td>\n",
       "    </tr>\n",
       "    <tr>\n",
       "      <th>2</th>\n",
       "      <td>A Tripp, James</td>\n",
       "      <td>–</td>\n",
       "      <td>45-49</td>\n",
       "      <td>28125</td>\n",
       "      <td>MA</td>\n",
       "      <td>–</td>\n",
       "      <td>–</td>\n",
       "      <td>–</td>\n",
       "      <td>06:40:28</td>\n",
       "      <td>06:46:35</td>\n",
       "      <td>...</td>\n",
       "      <td>None</td>\n",
       "      <td>None</td>\n",
       "      <td>None</td>\n",
       "      <td>None</td>\n",
       "      <td>None</td>\n",
       "      <td>06:01:37PM</td>\n",
       "      <td>06:40:28</td>\n",
       "      <td>18:26</td>\n",
       "      <td>18:06</td>\n",
       "      <td>NaN</td>\n",
       "    </tr>\n",
       "    <tr>\n",
       "      <th>3</th>\n",
       "      <td>A. Ferreira Filho, Martin</td>\n",
       "      <td>–</td>\n",
       "      <td>40-44</td>\n",
       "      <td>2134</td>\n",
       "      <td>–</td>\n",
       "      <td>1821</td>\n",
       "      <td>259</td>\n",
       "      <td>1911</td>\n",
       "      <td>02:55:07</td>\n",
       "      <td>02:55:57</td>\n",
       "      <td>...</td>\n",
       "      <td>07:27</td>\n",
       "      <td>12:48:33PM</td>\n",
       "      <td>02:47:41</td>\n",
       "      <td>02:49</td>\n",
       "      <td>08:10</td>\n",
       "      <td>12:55:58PM</td>\n",
       "      <td>02:55:07</td>\n",
       "      <td>07:26</td>\n",
       "      <td>07:18</td>\n",
       "      <td>M</td>\n",
       "    </tr>\n",
       "    <tr>\n",
       "      <th>4</th>\n",
       "      <td>Aagard, Aubrie</td>\n",
       "      <td>–</td>\n",
       "      <td>18-39</td>\n",
       "      <td>12768</td>\n",
       "      <td>UT</td>\n",
       "      <td>1755</td>\n",
       "      <td>1353</td>\n",
       "      <td>8033</td>\n",
       "      <td>03:24:26</td>\n",
       "      <td>03:28:12</td>\n",
       "      <td>...</td>\n",
       "      <td>08:18</td>\n",
       "      <td>01:44:59PM</td>\n",
       "      <td>03:16:13</td>\n",
       "      <td>03:10</td>\n",
       "      <td>09:11</td>\n",
       "      <td>01:53:13PM</td>\n",
       "      <td>03:24:26</td>\n",
       "      <td>08:13</td>\n",
       "      <td>08:04</td>\n",
       "      <td>W</td>\n",
       "    </tr>\n",
       "  </tbody>\n",
       "</table>\n",
       "<p>5 rows × 74 columns</p>\n",
       "</div>"
      ],
      "text/plain": [
       "                        name team age_group bib_num state place_mw place_ac  \\\n",
       "0          A Desouza, Renato    –     50-54    9508    HI     9102     1196   \n",
       "1          A Hayes, Kimberly    –     50-54   28861    MA    10172     1093   \n",
       "2             A Tripp, James    –     45-49   28125    MA        –        –   \n",
       "3  A. Ferreira Filho, Martin    –     40-44    2134     –     1821      259   \n",
       "4             Aagard, Aubrie    –     18-39   12768    UT     1755     1353   \n",
       "\n",
       "  place_total  time_net  time_gun  ... 40K_min_per_mile  \\\n",
       "0       13896  03:48:15  03:49:00  ...            10:05   \n",
       "1       24147  05:26:24  05:31:26  ...            14:27   \n",
       "2           –  06:40:28  06:46:35  ...             None   \n",
       "3        1911  02:55:07  02:55:57  ...            07:27   \n",
       "4        8033  03:24:26  03:28:12  ...            08:18   \n",
       "\n",
       "  25_2_miles_time_of_day 25_2_miles_time 25_2_miles_time_diff  \\\n",
       "0             01:55:28PM        03:29:43                04:44   \n",
       "1             04:33:09PM        05:13:05                05:00   \n",
       "2                   None            None                 None   \n",
       "3             12:48:33PM        02:47:41                02:49   \n",
       "4             01:44:59PM        03:16:13                03:10   \n",
       "\n",
       "  25_2_miles_min_per_mile 26_2_miles_time_of_day 26_2_miles_time  \\\n",
       "0                   13:44             02:14:01PM        03:48:15   \n",
       "1                   14:30             04:46:28PM        05:26:24   \n",
       "2                    None             06:01:37PM        06:40:28   \n",
       "3                   08:10             12:55:58PM        02:55:07   \n",
       "4                   09:11             01:53:13PM        03:24:26   \n",
       "\n",
       "  26_2_miles_time_diff 26_2_miles_min_per_mile  sex  \n",
       "0                18:32                   18:11    M  \n",
       "1                13:19                   13:04    W  \n",
       "2                18:26                   18:06  NaN  \n",
       "3                07:26                   07:18    M  \n",
       "4                08:13                   08:04    W  \n",
       "\n",
       "[5 rows x 74 columns]"
      ]
     },
     "execution_count": 199,
     "metadata": {},
     "output_type": "execute_result"
    }
   ],
   "source": [
    "df.head()"
   ]
  },
  {
   "cell_type": "code",
   "execution_count": 200,
   "id": "a8bfa544-13d4-4551-b1cd-656ecce00b9a",
   "metadata": {},
   "outputs": [
    {
     "data": {
      "text/plain": [
       "Index(['name', 'team', 'age_group', 'bib_num', 'state', 'place_mw', 'place_ac',\n",
       "       'place_total', 'time_net', 'time_gun', 'mile_split', 'race_status',\n",
       "       'last_split', '5K_time_of_day', '5K_time', '5K_time_diff',\n",
       "       '5K_min_per_mile', '10K_time_of_day', '10K_time', '10K_time_diff',\n",
       "       '10K_min_per_mile', '15K_time_of_day', '15K_time', '15K_time_diff',\n",
       "       '15K_min_per_mile', '20K_time_of_day', '20K_time', '20K_time_diff',\n",
       "       '20K_min_per_mile', 'HALF_time_of_day', 'HALF_time', 'HALF_time_diff',\n",
       "       'HALF_min_per_mile', '25K_time_of_day', '25K_time', '25K_time_diff',\n",
       "       '25K_min_per_mile', '30K_time_of_day', '30K_time', '30K_time_diff',\n",
       "       '30K_min_per_mile', '20_miles_time_of_day', '20_miles_time',\n",
       "       '20_miles_time_diff', '20_miles_min_per_mile', '21_miles_time_of_day',\n",
       "       '21_miles_time', '21_miles_time_diff', '21_miles_min_per_mile',\n",
       "       '35K_time_of_day', '35K_time', '35K_time_diff', '35K_min_per_mile',\n",
       "       '23_miles_time_of_day', '23_miles_time', '23_miles_time_diff',\n",
       "       '23_miles_min_per_mile', '24_miles_time_of_day', '24_miles_time',\n",
       "       '24_miles_time_diff', '24_miles_min_per_mile', '40K_time_of_day',\n",
       "       '40K_time', '40K_time_diff', '40K_min_per_mile',\n",
       "       '25_2_miles_time_of_day', '25_2_miles_time', '25_2_miles_time_diff',\n",
       "       '25_2_miles_min_per_mile', '26_2_miles_time_of_day', '26_2_miles_time',\n",
       "       '26_2_miles_time_diff', '26_2_miles_min_per_mile', 'sex'],\n",
       "      dtype='object')"
      ]
     },
     "execution_count": 200,
     "metadata": {},
     "output_type": "execute_result"
    }
   ],
   "source": [
    "df.columns"
   ]
  },
  {
   "cell_type": "code",
   "execution_count": 322,
   "id": "1fc643b9-5e81-43fa-8c0f-2f07bf27dff3",
   "metadata": {},
   "outputs": [
    {
     "name": "stdout",
     "output_type": "stream",
     "text": [
      "<class 'pandas.core.frame.DataFrame'>\n",
      "RangeIndex: 29380 entries, 0 to 29379\n",
      "Data columns (total 74 columns):\n",
      " #   Column                   Non-Null Count  Dtype \n",
      "---  ------                   --------------  ----- \n",
      " 0   name                     29380 non-null  object\n",
      " 1   team                     29380 non-null  object\n",
      " 2   age_group                29380 non-null  object\n",
      " 3   bib_num                  29380 non-null  object\n",
      " 4   state                    29380 non-null  object\n",
      " 5   place_mw                 29380 non-null  object\n",
      " 6   place_ac                 29380 non-null  object\n",
      " 7   place_total              29380 non-null  object\n",
      " 8   time_net                 29380 non-null  object\n",
      " 9   time_gun                 29380 non-null  object\n",
      " 10  mile_split               29380 non-null  object\n",
      " 11  race_status              29380 non-null  object\n",
      " 12  last_split               29380 non-null  object\n",
      " 13  5K_time_of_day           26551 non-null  object\n",
      " 14  5K_time                  29349 non-null  object\n",
      " 15  5K_time_diff             29349 non-null  object\n",
      " 16  5K_min_per_mile          29349 non-null  object\n",
      " 17  10K_time_of_day          26456 non-null  object\n",
      " 18  10K_time                 29254 non-null  object\n",
      " 19  10K_time_diff            29254 non-null  object\n",
      " 20  10K_min_per_mile         29254 non-null  object\n",
      " 21  15K_time_of_day          26383 non-null  object\n",
      " 22  15K_time                 29181 non-null  object\n",
      " 23  15K_time_diff            29181 non-null  object\n",
      " 24  15K_min_per_mile         29181 non-null  object\n",
      " 25  20K_time_of_day          26355 non-null  object\n",
      " 26  20K_time                 29153 non-null  object\n",
      " 27  20K_time_diff            29153 non-null  object\n",
      " 28  20K_min_per_mile         29153 non-null  object\n",
      " 29  HALF_time_of_day         26222 non-null  object\n",
      " 30  HALF_time                29020 non-null  object\n",
      " 31  HALF_time_diff           29020 non-null  object\n",
      " 32  HALF_min_per_mile        29020 non-null  object\n",
      " 33  25K_time_of_day          26088 non-null  object\n",
      " 34  25K_time                 28886 non-null  object\n",
      " 35  25K_time_diff            28886 non-null  object\n",
      " 36  25K_min_per_mile         28886 non-null  object\n",
      " 37  30K_time_of_day          26105 non-null  object\n",
      " 38  30K_time                 28903 non-null  object\n",
      " 39  30K_time_diff            28903 non-null  object\n",
      " 40  30K_min_per_mile         28903 non-null  object\n",
      " 41  20_miles_time_of_day     26009 non-null  object\n",
      " 42  20_miles_time            28807 non-null  object\n",
      " 43  20_miles_time_diff       28807 non-null  object\n",
      " 44  20_miles_min_per_mile    28807 non-null  object\n",
      " 45  21_miles_time_of_day     26016 non-null  object\n",
      " 46  21_miles_time            28814 non-null  object\n",
      " 47  21_miles_time_diff       28814 non-null  object\n",
      " 48  21_miles_min_per_mile    28814 non-null  object\n",
      " 49  35K_time_of_day          25982 non-null  object\n",
      " 50  35K_time                 28780 non-null  object\n",
      " 51  35K_time_diff            28780 non-null  object\n",
      " 52  35K_min_per_mile         28780 non-null  object\n",
      " 53  23_miles_time_of_day     25878 non-null  object\n",
      " 54  23_miles_time            28676 non-null  object\n",
      " 55  23_miles_time_diff       28676 non-null  object\n",
      " 56  23_miles_min_per_mile    28676 non-null  object\n",
      " 57  24_miles_time_of_day     25921 non-null  object\n",
      " 58  24_miles_time            28719 non-null  object\n",
      " 59  24_miles_time_diff       28719 non-null  object\n",
      " 60  24_miles_min_per_mile    28719 non-null  object\n",
      " 61  40K_time_of_day          25912 non-null  object\n",
      " 62  40K_time                 28710 non-null  object\n",
      " 63  40K_time_diff            28710 non-null  object\n",
      " 64  40K_min_per_mile         28710 non-null  object\n",
      " 65  25_2_miles_time_of_day   25909 non-null  object\n",
      " 66  25_2_miles_time          28707 non-null  object\n",
      " 67  25_2_miles_time_diff     28707 non-null  object\n",
      " 68  25_2_miles_min_per_mile  28707 non-null  object\n",
      " 69  26_2_miles_time_of_day   26140 non-null  object\n",
      " 70  26_2_miles_time          26140 non-null  object\n",
      " 71  26_2_miles_time_diff     26140 non-null  object\n",
      " 72  26_2_miles_min_per_mile  26140 non-null  object\n",
      " 73  sex                      25732 non-null  object\n",
      "dtypes: object(74)\n",
      "memory usage: 16.6+ MB\n"
     ]
    }
   ],
   "source": [
    "df.info(verbose=True)"
   ]
  },
  {
   "cell_type": "code",
   "execution_count": 323,
   "id": "8aad2dff-d5b4-4482-8ee3-c41509f1181f",
   "metadata": {},
   "outputs": [
    {
     "data": {
      "text/plain": [
       "(29380, 74)"
      ]
     },
     "execution_count": 323,
     "metadata": {},
     "output_type": "execute_result"
    }
   ],
   "source": [
    "df.shape"
   ]
  },
  {
   "cell_type": "markdown",
   "id": "d1446545-1002-4137-abd4-b132e701e658",
   "metadata": {},
   "source": [
    "### Data Cleaning"
   ]
  },
  {
   "cell_type": "code",
   "execution_count": 349,
   "id": "f0fdbb5f-bfb2-49d1-a6ae-ec8e3b106e5a",
   "metadata": {},
   "outputs": [],
   "source": [
    "##Replace all blank values with None type\n",
    "df.replace('–',np.NaN, inplace=True)"
   ]
  },
  {
   "cell_type": "code",
   "execution_count": 350,
   "id": "82e4f2fa-11b6-489a-bac3-a609c852eb92",
   "metadata": {},
   "outputs": [],
   "source": [
    "def replace_negative_with_nan(value):\n",
    "    if isinstance(value, str) and value.startswith('-'):\n",
    "        return np.nan\n",
    "    return value\n",
    "df = df.map(replace_negative_with_nan)"
   ]
  },
  {
   "cell_type": "code",
   "execution_count": 351,
   "id": "c0cd70d3-91da-4252-bc96-b777d74229f2",
   "metadata": {},
   "outputs": [],
   "source": [
    "#Remove all entries where the race was not completed\n",
    "df['race_status'].unique()\n",
    "df = df[df['race_status'] == 'Finished'].reset_index()"
   ]
  },
  {
   "cell_type": "code",
   "execution_count": 352,
   "id": "06b13e38-190a-4aaa-ac4a-f8e3a54c3d43",
   "metadata": {},
   "outputs": [
    {
     "data": {
      "text/plain": [
       "count    25650.000000\n",
       "mean     12777.129825\n",
       "std       7377.595608\n",
       "min          1.000000\n",
       "25%       6393.250000\n",
       "50%      12781.500000\n",
       "75%      19162.750000\n",
       "max      25550.000000\n",
       "Name: place_total, dtype: float64"
      ]
     },
     "execution_count": 352,
     "metadata": {},
     "output_type": "execute_result"
    }
   ],
   "source": [
    "#Remove all entries where the participant was disqualified or do not have a place\n",
    "df = df[df['place_total'] != 'DSQ']\n",
    "df = df[~df['place_total'].isna()]\n",
    "\n",
    "#Convert the column type to integer\n",
    "df['place_total'] = df['place_total'].astype('float')\n",
    "df['place_total'].describe()"
   ]
  },
  {
   "cell_type": "code",
   "execution_count": 353,
   "id": "67947edd-552a-417a-bd22-9e7a5cbc9fe8",
   "metadata": {},
   "outputs": [],
   "source": [
    "#Convert object type to int type for place_ac\n",
    "df['place_ac'] = df['place_ac'].astype('float')\n",
    "#df['place_ac'].describe()"
   ]
  },
  {
   "cell_type": "code",
   "execution_count": 354,
   "id": "6dd4216b-b9b5-43ce-8f95-b128d08ad457",
   "metadata": {},
   "outputs": [],
   "source": [
    "#Getting rid of the letter included in one bib number\n",
    "df['bib_num'] = df['bib_num'].str.replace('P','')\n",
    "df['bib_num'] = df['bib_num'].astype('float')"
   ]
  },
  {
   "cell_type": "code",
   "execution_count": 355,
   "id": "14b12cd6-c477-44c2-b43d-db4c7367ebb8",
   "metadata": {},
   "outputs": [],
   "source": [
    "#Convert object type to int type for place_mw\n",
    "df['place_mw'] = df['place_mw'].astype('float')"
   ]
  },
  {
   "cell_type": "code",
   "execution_count": 356,
   "id": "87c5014c-0bee-4064-aece-d6464e5ff854",
   "metadata": {},
   "outputs": [],
   "source": [
    "#Final times updated to a timedelta type\n",
    "df['time_net'] = pd.to_timedelta(df['time_net'],errors='coerce')\n",
    "df['time_net_hr']  = df['time_net'] / np.timedelta64(1, 's') / 3600"
   ]
  },
  {
   "cell_type": "code",
   "execution_count": 357,
   "id": "864c06a2-392b-4c1c-9315-d7fb15a2795c",
   "metadata": {},
   "outputs": [],
   "source": [
    "df['time_gun'] = pd.to_timedelta(df['time_gun'],errors='coerce')\n",
    "df['time_gun_hr']  = df['time_gun'] / np.timedelta64(1, 's') / 3600"
   ]
  },
  {
   "cell_type": "code",
   "execution_count": 358,
   "id": "0e78ebf1-9ca6-4601-a18c-2eee4cdf5776",
   "metadata": {},
   "outputs": [
    {
     "data": {
      "text/plain": [
       "0     8.716667\n",
       "1    12.450000\n",
       "3     6.683333\n",
       "4     7.800000\n",
       "5     6.616667\n",
       "Name: mile_split_min, dtype: float64"
      ]
     },
     "execution_count": 358,
     "metadata": {},
     "output_type": "execute_result"
    }
   ],
   "source": [
    "df['mile_split_min'] = (pd.to_timedelta('00:' + df['mile_split']) / np.timedelta64(1, 's') / 60).astype('float')\n",
    "df['mile_split_min'].head()"
   ]
  },
  {
   "cell_type": "code",
   "execution_count": 359,
   "id": "58f558cb-e64b-4a29-8ba5-8a13ac658edc",
   "metadata": {},
   "outputs": [],
   "source": [
    "#Get all the race times into the correct format\n",
    "race_elements_list = ['5K','10K','15K','20K','HALF','25K','30K','20_miles','21_miles','35K','23_miles','24_miles','40K','25_2_miles','26_2_miles']"
   ]
  },
  {
   "cell_type": "code",
   "execution_count": 360,
   "id": "e65ed0d7-a925-4bd4-a959-6f7ff60fd796",
   "metadata": {},
   "outputs": [],
   "source": [
    "def normalize_time_format(time_str):\n",
    "    if pd.isna(time_str):\n",
    "        return time_str\n",
    "    parts = time_str.split(':')\n",
    "    if len(parts) == 2:\n",
    "        # If the format is \"mm:ss\", prepend \"00:\"\n",
    "        return '00:' + time_str\n",
    "    return time_str\n"
   ]
  },
  {
   "cell_type": "code",
   "execution_count": 361,
   "id": "f0db579e-f595-4366-a324-8cad6ac22cd1",
   "metadata": {},
   "outputs": [],
   "source": [
    "for i in race_elements_list:\n",
    "    df[i+ '_time_of_day'] = pd.to_datetime(df[i+ '_time_of_day'],format='%I:%M:%S%p')\n",
    "    df[i+ '_time_diff'] = df[i+'_time_diff'].apply(normalize_time_format)\n",
    "    df[i+ '_time_diff'] = pd.to_timedelta(df[i+ '_time_diff'])\n",
    "    df[i+ '_min_per_mile'] = df[i+'_min_per_mile'].apply(normalize_time_format)\n",
    "    df[i+ '_min_per_mile'] = (pd.to_timedelta(df[i+ '_min_per_mile']) / np.timedelta64(1, 's') / 60).astype('float')\n",
    "    df[i+ '_time'] = (pd.to_timedelta(df[i+ '_time']) / np.timedelta64(1, 's') / 60).astype('float')  "
   ]
  },
  {
   "cell_type": "code",
   "execution_count": 363,
   "id": "a5b5136e-fded-47c8-b447-cf7675ec0ca8",
   "metadata": {},
   "outputs": [],
   "source": [
    "with open('marathon_data_clean.pkl', 'wb') as file:\n",
    "    pickle.dump(df, file)"
   ]
  },
  {
   "cell_type": "code",
   "execution_count": 362,
   "id": "c0b2951c-6beb-4962-8773-0c8f48cdede6",
   "metadata": {},
   "outputs": [
    {
     "name": "stdout",
     "output_type": "stream",
     "text": [
      "<class 'pandas.core.frame.DataFrame'>\n",
      "Index: 25650 entries, 0 to 26149\n",
      "Data columns (total 78 columns):\n",
      " #   Column                   Non-Null Count  Dtype          \n",
      "---  ------                   --------------  -----          \n",
      " 0   index                    25650 non-null  int64          \n",
      " 1   name                     25650 non-null  object         \n",
      " 2   team                     961 non-null    object         \n",
      " 3   age_group                25603 non-null  object         \n",
      " 4   bib_num                  25650 non-null  float64        \n",
      " 5   state                    18981 non-null  object         \n",
      " 6   place_mw                 25650 non-null  float64        \n",
      " 7   place_ac                 25603 non-null  float64        \n",
      " 8   place_total              25650 non-null  float64        \n",
      " 9   time_net                 25650 non-null  timedelta64[ns]\n",
      " 10  time_gun                 25650 non-null  timedelta64[ns]\n",
      " 11  mile_split               25650 non-null  object         \n",
      " 12  race_status              25650 non-null  object         \n",
      " 13  last_split               25650 non-null  object         \n",
      " 14  5K_time_of_day           25593 non-null  datetime64[ns] \n",
      " 15  5K_time                  25593 non-null  float64        \n",
      " 16  5K_time_diff             25593 non-null  timedelta64[ns]\n",
      " 17  5K_min_per_mile          25593 non-null  float64        \n",
      " 18  10K_time_of_day          25573 non-null  datetime64[ns] \n",
      " 19  10K_time                 25573 non-null  float64        \n",
      " 20  10K_time_diff            25546 non-null  timedelta64[ns]\n",
      " 21  10K_min_per_mile         25546 non-null  float64        \n",
      " 22  15K_time_of_day          25605 non-null  datetime64[ns] \n",
      " 23  15K_time                 25605 non-null  float64        \n",
      " 24  15K_time_diff            25585 non-null  timedelta64[ns]\n",
      " 25  15K_min_per_mile         25585 non-null  float64        \n",
      " 26  20K_time_of_day          25605 non-null  datetime64[ns] \n",
      " 27  20K_time                 25605 non-null  float64        \n",
      " 28  20K_time_diff            25604 non-null  timedelta64[ns]\n",
      " 29  20K_min_per_mile         25604 non-null  float64        \n",
      " 30  HALF_time_of_day         25566 non-null  datetime64[ns] \n",
      " 31  HALF_time                25566 non-null  float64        \n",
      " 32  HALF_time_diff           25561 non-null  timedelta64[ns]\n",
      " 33  HALF_min_per_mile        25561 non-null  float64        \n",
      " 34  25K_time_of_day          25569 non-null  datetime64[ns] \n",
      " 35  25K_time                 25569 non-null  float64        \n",
      " 36  25K_time_diff            25568 non-null  timedelta64[ns]\n",
      " 37  25K_min_per_mile         25568 non-null  float64        \n",
      " 38  30K_time_of_day          25629 non-null  datetime64[ns] \n",
      " 39  30K_time                 25629 non-null  float64        \n",
      " 40  30K_time_diff            25627 non-null  timedelta64[ns]\n",
      " 41  30K_min_per_mile         25627 non-null  float64        \n",
      " 42  20_miles_time_of_day     25582 non-null  datetime64[ns] \n",
      " 43  20_miles_time            25582 non-null  float64        \n",
      " 44  20_miles_time_diff       25582 non-null  timedelta64[ns]\n",
      " 45  20_miles_min_per_mile    25582 non-null  float64        \n",
      " 46  21_miles_time_of_day     25625 non-null  datetime64[ns] \n",
      " 47  21_miles_time            25625 non-null  float64        \n",
      " 48  21_miles_time_diff       25624 non-null  timedelta64[ns]\n",
      " 49  21_miles_min_per_mile    25624 non-null  float64        \n",
      " 50  35K_time_of_day          25594 non-null  datetime64[ns] \n",
      " 51  35K_time                 25594 non-null  float64        \n",
      " 52  35K_time_diff            25594 non-null  timedelta64[ns]\n",
      " 53  35K_min_per_mile         25594 non-null  float64        \n",
      " 54  23_miles_time_of_day     25609 non-null  datetime64[ns] \n",
      " 55  23_miles_time            25609 non-null  float64        \n",
      " 56  23_miles_time_diff       25609 non-null  timedelta64[ns]\n",
      " 57  23_miles_min_per_mile    25609 non-null  float64        \n",
      " 58  24_miles_time_of_day     25595 non-null  datetime64[ns] \n",
      " 59  24_miles_time            25595 non-null  float64        \n",
      " 60  24_miles_time_diff       25595 non-null  timedelta64[ns]\n",
      " 61  24_miles_min_per_mile    25595 non-null  float64        \n",
      " 62  40K_time_of_day          25606 non-null  datetime64[ns] \n",
      " 63  40K_time                 25606 non-null  float64        \n",
      " 64  40K_time_diff            25606 non-null  timedelta64[ns]\n",
      " 65  40K_min_per_mile         25606 non-null  float64        \n",
      " 66  25_2_miles_time_of_day   25607 non-null  datetime64[ns] \n",
      " 67  25_2_miles_time          25607 non-null  float64        \n",
      " 68  25_2_miles_time_diff     25607 non-null  timedelta64[ns]\n",
      " 69  25_2_miles_min_per_mile  25607 non-null  float64        \n",
      " 70  26_2_miles_time_of_day   25650 non-null  datetime64[ns] \n",
      " 71  26_2_miles_time          25650 non-null  float64        \n",
      " 72  26_2_miles_time_diff     25647 non-null  timedelta64[ns]\n",
      " 73  26_2_miles_min_per_mile  25647 non-null  float64        \n",
      " 74  sex                      25650 non-null  object         \n",
      " 75  time_net_hr              25650 non-null  float64        \n",
      " 76  time_gun_hr              25650 non-null  float64        \n",
      " 77  mile_split_min           25650 non-null  float64        \n",
      "dtypes: datetime64[ns](15), float64(37), int64(1), object(8), timedelta64[ns](17)\n",
      "memory usage: 15.5+ MB\n"
     ]
    }
   ],
   "source": [
    "df.info(verbose=True)"
   ]
  }
 ],
 "metadata": {
  "kernelspec": {
   "display_name": "Python 3 (ipykernel)",
   "language": "python",
   "name": "python3"
  },
  "language_info": {
   "codemirror_mode": {
    "name": "ipython",
    "version": 3
   },
   "file_extension": ".py",
   "mimetype": "text/x-python",
   "name": "python",
   "nbconvert_exporter": "python",
   "pygments_lexer": "ipython3",
   "version": "3.11.5"
  },
  "widgets": {
   "application/vnd.jupyter.widget-state+json": {
    "state": {},
    "version_major": 2,
    "version_minor": 0
   }
  }
 },
 "nbformat": 4,
 "nbformat_minor": 5
}
